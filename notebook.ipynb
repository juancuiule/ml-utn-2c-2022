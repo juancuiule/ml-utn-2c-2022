{
 "cells": [
  {
   "cell_type": "code",
   "execution_count": 1,
   "id": "e39128eb",
   "metadata": {},
   "outputs": [],
   "source": [
    "import numpy as np\n",
    "import pandas as pd\n",
    "import math"
   ]
  },
  {
   "cell_type": "code",
   "execution_count": 2,
   "id": "701af45d",
   "metadata": {
    "scrolled": true
   },
   "outputs": [
    {
     "data": {
      "text/html": [
       "<div>\n",
       "<style scoped>\n",
       "    .dataframe tbody tr th:only-of-type {\n",
       "        vertical-align: middle;\n",
       "    }\n",
       "\n",
       "    .dataframe tbody tr th {\n",
       "        vertical-align: top;\n",
       "    }\n",
       "\n",
       "    .dataframe thead th {\n",
       "        text-align: right;\n",
       "    }\n",
       "</style>\n",
       "<table border=\"1\" class=\"dataframe\">\n",
       "  <thead>\n",
       "    <tr style=\"text-align: right;\">\n",
       "      <th></th>\n",
       "      <th>client_id</th>\n",
       "      <th>Target</th>\n",
       "      <th>Month</th>\n",
       "      <th>First_product_dt</th>\n",
       "      <th>Last_product_dt</th>\n",
       "      <th>CreditCard_Premium</th>\n",
       "      <th>CreditCard_Active</th>\n",
       "      <th>CreditCard_CoBranding</th>\n",
       "      <th>Loan_Active</th>\n",
       "      <th>Mortgage_Active</th>\n",
       "      <th>...</th>\n",
       "      <th>CreditCard_Payment_External</th>\n",
       "      <th>CreditCard_Payment_Cash</th>\n",
       "      <th>CreditCard_Payment_Web</th>\n",
       "      <th>CreditCard_Payment_ATM</th>\n",
       "      <th>CreditCard_Payment_TAS</th>\n",
       "      <th>Investment_Numbers</th>\n",
       "      <th>Mobile</th>\n",
       "      <th>Email</th>\n",
       "      <th>Region</th>\n",
       "      <th>CreditCard_Product</th>\n",
       "    </tr>\n",
       "  </thead>\n",
       "  <tbody>\n",
       "    <tr>\n",
       "      <th>0</th>\n",
       "      <td>5856970</td>\n",
       "      <td>1.0</td>\n",
       "      <td>2018-10-01</td>\n",
       "      <td>2013-10-23</td>\n",
       "      <td>2019-01-10</td>\n",
       "      <td>No</td>\n",
       "      <td>Yes</td>\n",
       "      <td>No</td>\n",
       "      <td>No</td>\n",
       "      <td>No</td>\n",
       "      <td>...</td>\n",
       "      <td>0.0</td>\n",
       "      <td>0.0</td>\n",
       "      <td>0.0</td>\n",
       "      <td>0.0</td>\n",
       "      <td>0.0</td>\n",
       "      <td>1.0</td>\n",
       "      <td>Yes</td>\n",
       "      <td>Yes</td>\n",
       "      <td>NaN</td>\n",
       "      <td>NaN</td>\n",
       "    </tr>\n",
       "    <tr>\n",
       "      <th>1</th>\n",
       "      <td>6371753</td>\n",
       "      <td>0.0</td>\n",
       "      <td>2018-09-01</td>\n",
       "      <td>2015-07-29</td>\n",
       "      <td>2018-06-02</td>\n",
       "      <td>No</td>\n",
       "      <td>No</td>\n",
       "      <td>No</td>\n",
       "      <td>No</td>\n",
       "      <td>No</td>\n",
       "      <td>...</td>\n",
       "      <td>0.0</td>\n",
       "      <td>0.0</td>\n",
       "      <td>0.0</td>\n",
       "      <td>0.0</td>\n",
       "      <td>0.0</td>\n",
       "      <td>0.0</td>\n",
       "      <td>Yes</td>\n",
       "      <td>No</td>\n",
       "      <td>NaN</td>\n",
       "      <td>NaN</td>\n",
       "    </tr>\n",
       "    <tr>\n",
       "      <th>2</th>\n",
       "      <td>5928737</td>\n",
       "      <td>0.0</td>\n",
       "      <td>2019-01-01</td>\n",
       "      <td>2016-08-31</td>\n",
       "      <td>2018-12-27</td>\n",
       "      <td>No</td>\n",
       "      <td>No</td>\n",
       "      <td>No</td>\n",
       "      <td>No</td>\n",
       "      <td>No</td>\n",
       "      <td>...</td>\n",
       "      <td>0.0</td>\n",
       "      <td>0.0</td>\n",
       "      <td>0.0</td>\n",
       "      <td>0.0</td>\n",
       "      <td>0.0</td>\n",
       "      <td>0.0</td>\n",
       "      <td>Yes</td>\n",
       "      <td>Yes</td>\n",
       "      <td>NaN</td>\n",
       "      <td>NaN</td>\n",
       "    </tr>\n",
       "    <tr>\n",
       "      <th>3</th>\n",
       "      <td>475064</td>\n",
       "      <td>0.0</td>\n",
       "      <td>2018-12-01</td>\n",
       "      <td>2014-07-13</td>\n",
       "      <td>2017-11-30</td>\n",
       "      <td>No</td>\n",
       "      <td>Yes</td>\n",
       "      <td>No</td>\n",
       "      <td>No</td>\n",
       "      <td>No</td>\n",
       "      <td>...</td>\n",
       "      <td>0.0</td>\n",
       "      <td>0.0</td>\n",
       "      <td>0.0</td>\n",
       "      <td>0.0</td>\n",
       "      <td>0.0</td>\n",
       "      <td>0.0</td>\n",
       "      <td>Yes</td>\n",
       "      <td>Yes</td>\n",
       "      <td>NaN</td>\n",
       "      <td>NaN</td>\n",
       "    </tr>\n",
       "    <tr>\n",
       "      <th>4</th>\n",
       "      <td>3615172</td>\n",
       "      <td>0.0</td>\n",
       "      <td>2018-09-01</td>\n",
       "      <td>2017-12-27</td>\n",
       "      <td>2017-12-28</td>\n",
       "      <td>No</td>\n",
       "      <td>No</td>\n",
       "      <td>No</td>\n",
       "      <td>No</td>\n",
       "      <td>No</td>\n",
       "      <td>...</td>\n",
       "      <td>0.0</td>\n",
       "      <td>0.0</td>\n",
       "      <td>0.0</td>\n",
       "      <td>0.0</td>\n",
       "      <td>0.0</td>\n",
       "      <td>0.0</td>\n",
       "      <td>Yes</td>\n",
       "      <td>No</td>\n",
       "      <td>NaN</td>\n",
       "      <td>NaN</td>\n",
       "    </tr>\n",
       "  </tbody>\n",
       "</table>\n",
       "<p>5 rows × 77 columns</p>\n",
       "</div>"
      ],
      "text/plain": [
       "   client_id  Target       Month First_product_dt Last_product_dt  \\\n",
       "0    5856970     1.0  2018-10-01       2013-10-23      2019-01-10   \n",
       "1    6371753     0.0  2018-09-01       2015-07-29      2018-06-02   \n",
       "2    5928737     0.0  2019-01-01       2016-08-31      2018-12-27   \n",
       "3     475064     0.0  2018-12-01       2014-07-13      2017-11-30   \n",
       "4    3615172     0.0  2018-09-01       2017-12-27      2017-12-28   \n",
       "\n",
       "  CreditCard_Premium CreditCard_Active CreditCard_CoBranding Loan_Active  \\\n",
       "0                 No               Yes                    No          No   \n",
       "1                 No                No                    No          No   \n",
       "2                 No                No                    No          No   \n",
       "3                 No               Yes                    No          No   \n",
       "4                 No                No                    No          No   \n",
       "\n",
       "  Mortgage_Active  ... CreditCard_Payment_External CreditCard_Payment_Cash  \\\n",
       "0              No  ...                         0.0                     0.0   \n",
       "1              No  ...                         0.0                     0.0   \n",
       "2              No  ...                         0.0                     0.0   \n",
       "3              No  ...                         0.0                     0.0   \n",
       "4              No  ...                         0.0                     0.0   \n",
       "\n",
       "  CreditCard_Payment_Web CreditCard_Payment_ATM CreditCard_Payment_TAS  \\\n",
       "0                    0.0                    0.0                    0.0   \n",
       "1                    0.0                    0.0                    0.0   \n",
       "2                    0.0                    0.0                    0.0   \n",
       "3                    0.0                    0.0                    0.0   \n",
       "4                    0.0                    0.0                    0.0   \n",
       "\n",
       "  Investment_Numbers Mobile Email Region CreditCard_Product  \n",
       "0                1.0    Yes   Yes    NaN                NaN  \n",
       "1                0.0    Yes    No    NaN                NaN  \n",
       "2                0.0    Yes   Yes    NaN                NaN  \n",
       "3                0.0    Yes   Yes    NaN                NaN  \n",
       "4                0.0    Yes    No    NaN                NaN  \n",
       "\n",
       "[5 rows x 77 columns]"
      ]
     },
     "execution_count": 2,
     "metadata": {},
     "output_type": "execute_result"
    }
   ],
   "source": [
    "df = pd.read_csv('./data.csv', sep='|')\n",
    "df.head()"
   ]
  },
  {
   "cell_type": "code",
   "execution_count": 3,
   "id": "2f90d288",
   "metadata": {},
   "outputs": [],
   "source": [
    "def toDatetime(column):\n",
    "    return pd.to_datetime(df[column], format=\"%Y-%m-%d\")"
   ]
  },
  {
   "cell_type": "code",
   "execution_count": 4,
   "id": "7a52f11e",
   "metadata": {},
   "outputs": [],
   "source": [
    "# Replace dates columns with datetime types instead of \"object\"\n",
    "df['Month'] = toDatetime('Month')\n",
    "df['First_product_dt'] = toDatetime('First_product_dt')\n",
    "df['Last_product_dt'] = toDatetime('Last_product_dt')"
   ]
  },
  {
   "cell_type": "markdown",
   "id": "a7391cbe",
   "metadata": {},
   "source": [
    "### Number of columns"
   ]
  },
  {
   "cell_type": "code",
   "execution_count": 5,
   "id": "b8ad57c3",
   "metadata": {},
   "outputs": [
    {
     "data": {
      "text/plain": [
       "77"
      ]
     },
     "execution_count": 5,
     "metadata": {},
     "output_type": "execute_result"
    }
   ],
   "source": [
    "len(df.columns)"
   ]
  },
  {
   "cell_type": "markdown",
   "id": "00c39317",
   "metadata": {},
   "source": [
    "### Number of rows"
   ]
  },
  {
   "cell_type": "code",
   "execution_count": 6,
   "id": "24f1e36a",
   "metadata": {
    "scrolled": true
   },
   "outputs": [
    {
     "data": {
      "text/plain": [
       "238615"
      ]
     },
     "execution_count": 6,
     "metadata": {},
     "output_type": "execute_result"
    }
   ],
   "source": [
    "len(df)"
   ]
  },
  {
   "cell_type": "markdown",
   "id": "b6daf108",
   "metadata": {},
   "source": [
    "### Number of columns related to saving account"
   ]
  },
  {
   "cell_type": "code",
   "execution_count": 7,
   "id": "b87492e6",
   "metadata": {},
   "outputs": [
    {
     "data": {
      "text/plain": [
       "29"
      ]
     },
     "execution_count": 7,
     "metadata": {},
     "output_type": "execute_result"
    }
   ],
   "source": [
    "saving_account_columns = [col for col in df.columns if col.startswith('SavingAccount_')]\n",
    "len(saving_account_columns)"
   ]
  },
  {
   "cell_type": "markdown",
   "id": "09cf9909",
   "metadata": {},
   "source": [
    "### Number of months"
   ]
  },
  {
   "cell_type": "code",
   "execution_count": 8,
   "id": "ff2f4284",
   "metadata": {},
   "outputs": [
    {
     "data": {
      "text/plain": [
       "9"
      ]
     },
     "execution_count": 8,
     "metadata": {},
     "output_type": "execute_result"
    }
   ],
   "source": [
    "months = pd.unique(df[df['Month'].notnull()]['Month'])\n",
    "len(months)"
   ]
  },
  {
   "cell_type": "markdown",
   "id": "0a190b01",
   "metadata": {},
   "source": [
    "### Number of clients"
   ]
  },
  {
   "cell_type": "code",
   "execution_count": 9,
   "id": "1216ec84",
   "metadata": {},
   "outputs": [
    {
     "data": {
      "text/plain": [
       "26560"
      ]
     },
     "execution_count": 9,
     "metadata": {},
     "output_type": "execute_result"
    }
   ],
   "source": [
    "clients = pd.unique(df[df['client_id'].notnull()]['client_id'])\n",
    "len(clients)"
   ]
  }
 ],
 "metadata": {
  "kernelspec": {
   "display_name": "Python 3 (ipykernel)",
   "language": "python",
   "name": "python3"
  },
  "language_info": {
   "codemirror_mode": {
    "name": "ipython",
    "version": 3
   },
   "file_extension": ".py",
   "mimetype": "text/x-python",
   "name": "python",
   "nbconvert_exporter": "python",
   "pygments_lexer": "ipython3",
   "version": "3.8.13"
  }
 },
 "nbformat": 4,
 "nbformat_minor": 5
}
