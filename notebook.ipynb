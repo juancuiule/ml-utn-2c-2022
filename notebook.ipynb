{
 "cells": [
  {
   "cell_type": "code",
   "execution_count": 1,
   "id": "e39128eb",
   "metadata": {},
   "outputs": [],
   "source": [
    "import numpy as np\n",
    "import pandas as pd\n",
    "import math"
   ]
  },
  {
   "cell_type": "code",
   "execution_count": 8,
   "id": "701af45d",
   "metadata": {},
   "outputs": [
    {
     "name": "stderr",
     "output_type": "stream",
     "text": [
      "/Users/juanignaciocuiule/opt/anaconda3/lib/python3.8/site-packages/IPython/core/interactiveshell.py:3398: DtypeWarning: Columns (0) have mixed types.Specify dtype option on import or set low_memory=False.\n",
      "  exec(code_obj, self.user_global_ns, self.user_ns)\n"
     ]
    },
    {
     "data": {
      "text/html": [
       "<div>\n",
       "<style scoped>\n",
       "    .dataframe tbody tr th:only-of-type {\n",
       "        vertical-align: middle;\n",
       "    }\n",
       "\n",
       "    .dataframe tbody tr th {\n",
       "        vertical-align: top;\n",
       "    }\n",
       "\n",
       "    .dataframe thead th {\n",
       "        text-align: right;\n",
       "    }\n",
       "</style>\n",
       "<table border=\"1\" class=\"dataframe\">\n",
       "  <thead>\n",
       "    <tr style=\"text-align: right;\">\n",
       "      <th></th>\n",
       "      <th>client_id</th>\n",
       "      <th>Target</th>\n",
       "      <th>Month</th>\n",
       "      <th>First_product_dt</th>\n",
       "      <th>Last_product_dt</th>\n",
       "      <th>CreditCard_Premium</th>\n",
       "      <th>CreditCard_Active</th>\n",
       "      <th>CreditCard_CoBranding</th>\n",
       "      <th>Loan_Active</th>\n",
       "      <th>Mortgage_Active</th>\n",
       "      <th>...</th>\n",
       "      <th>CreditCard_Payment_External</th>\n",
       "      <th>CreditCard_Payment_Cash</th>\n",
       "      <th>CreditCard_Payment_Web</th>\n",
       "      <th>CreditCard_Payment_ATM</th>\n",
       "      <th>CreditCard_Payment_TAS</th>\n",
       "      <th>Investment_Numbers</th>\n",
       "      <th>Mobile</th>\n",
       "      <th>Email</th>\n",
       "      <th>Region</th>\n",
       "      <th>CreditCard_Product</th>\n",
       "    </tr>\n",
       "  </thead>\n",
       "  <tbody>\n",
       "    <tr>\n",
       "      <th>238611</th>\n",
       "      <td>6377583</td>\n",
       "      <td>0.0</td>\n",
       "      <td>2019-04-01</td>\n",
       "      <td>2015-06-03</td>\n",
       "      <td>2019-01-04</td>\n",
       "      <td>No</td>\n",
       "      <td>Yes</td>\n",
       "      <td>No</td>\n",
       "      <td>Yes</td>\n",
       "      <td>No</td>\n",
       "      <td>...</td>\n",
       "      <td>0.0</td>\n",
       "      <td>0.0</td>\n",
       "      <td>0.0</td>\n",
       "      <td>0.0</td>\n",
       "      <td>0.0</td>\n",
       "      <td>0.0</td>\n",
       "      <td>Yes</td>\n",
       "      <td>Yes</td>\n",
       "      <td>BUENOS AIRES</td>\n",
       "      <td>J55660104XX012</td>\n",
       "    </tr>\n",
       "    <tr>\n",
       "      <th>238612</th>\n",
       "      <td>6412619</td>\n",
       "      <td>0.0</td>\n",
       "      <td>2019-01-01</td>\n",
       "      <td>2015-07-08</td>\n",
       "      <td>2018-06-02</td>\n",
       "      <td>No</td>\n",
       "      <td>No</td>\n",
       "      <td>No</td>\n",
       "      <td>Yes</td>\n",
       "      <td>No</td>\n",
       "      <td>...</td>\n",
       "      <td>0.0</td>\n",
       "      <td>0.0</td>\n",
       "      <td>0.0</td>\n",
       "      <td>0.0</td>\n",
       "      <td>0.0</td>\n",
       "      <td>0.0</td>\n",
       "      <td>Yes</td>\n",
       "      <td>No</td>\n",
       "      <td>NaN</td>\n",
       "      <td>NaN</td>\n",
       "    </tr>\n",
       "    <tr>\n",
       "      <th>238613</th>\n",
       "      <td>5542402</td>\n",
       "      <td>0.0</td>\n",
       "      <td>2019-04-01</td>\n",
       "      <td>2012-09-13</td>\n",
       "      <td>2012-09-13</td>\n",
       "      <td>No</td>\n",
       "      <td>Yes</td>\n",
       "      <td>No</td>\n",
       "      <td>No</td>\n",
       "      <td>No</td>\n",
       "      <td>...</td>\n",
       "      <td>0.0</td>\n",
       "      <td>0.0</td>\n",
       "      <td>0.0</td>\n",
       "      <td>1.0</td>\n",
       "      <td>0.0</td>\n",
       "      <td>0.0</td>\n",
       "      <td>No</td>\n",
       "      <td>Yes</td>\n",
       "      <td>REGION NORTE GRANDE ARGENTINO</td>\n",
       "      <td>J55660104XX012</td>\n",
       "    </tr>\n",
       "    <tr>\n",
       "      <th>238614</th>\n",
       "      <td>5921880</td>\n",
       "      <td>0.0</td>\n",
       "      <td>2019-03-01</td>\n",
       "      <td>2014-01-30</td>\n",
       "      <td>2017-05-24</td>\n",
       "      <td>No</td>\n",
       "      <td>No</td>\n",
       "      <td>No</td>\n",
       "      <td>No</td>\n",
       "      <td>No</td>\n",
       "      <td>...</td>\n",
       "      <td>0.0</td>\n",
       "      <td>0.0</td>\n",
       "      <td>0.0</td>\n",
       "      <td>0.0</td>\n",
       "      <td>0.0</td>\n",
       "      <td>0.0</td>\n",
       "      <td>Yes</td>\n",
       "      <td>Yes</td>\n",
       "      <td>CABA Centro/Norte</td>\n",
       "      <td>NaN</td>\n",
       "    </tr>\n",
       "    <tr>\n",
       "      <th>238615</th>\n",
       "      <td>(238615 rows affected)</td>\n",
       "      <td>NaN</td>\n",
       "      <td>NaN</td>\n",
       "      <td>NaN</td>\n",
       "      <td>NaN</td>\n",
       "      <td>NaN</td>\n",
       "      <td>NaN</td>\n",
       "      <td>NaN</td>\n",
       "      <td>NaN</td>\n",
       "      <td>NaN</td>\n",
       "      <td>...</td>\n",
       "      <td>NaN</td>\n",
       "      <td>NaN</td>\n",
       "      <td>NaN</td>\n",
       "      <td>NaN</td>\n",
       "      <td>NaN</td>\n",
       "      <td>NaN</td>\n",
       "      <td>NaN</td>\n",
       "      <td>NaN</td>\n",
       "      <td>NaN</td>\n",
       "      <td>NaN</td>\n",
       "    </tr>\n",
       "  </tbody>\n",
       "</table>\n",
       "<p>5 rows × 77 columns</p>\n",
       "</div>"
      ],
      "text/plain": [
       "                     client_id  Target       Month First_product_dt  \\\n",
       "238611                 6377583     0.0  2019-04-01       2015-06-03   \n",
       "238612                 6412619     0.0  2019-01-01       2015-07-08   \n",
       "238613                 5542402     0.0  2019-04-01       2012-09-13   \n",
       "238614                 5921880     0.0  2019-03-01       2014-01-30   \n",
       "238615  (238615 rows affected)     NaN         NaN              NaN   \n",
       "\n",
       "       Last_product_dt CreditCard_Premium CreditCard_Active  \\\n",
       "238611      2019-01-04                 No               Yes   \n",
       "238612      2018-06-02                 No                No   \n",
       "238613      2012-09-13                 No               Yes   \n",
       "238614      2017-05-24                 No                No   \n",
       "238615             NaN                NaN               NaN   \n",
       "\n",
       "       CreditCard_CoBranding Loan_Active Mortgage_Active  ...  \\\n",
       "238611                    No         Yes              No  ...   \n",
       "238612                    No         Yes              No  ...   \n",
       "238613                    No          No              No  ...   \n",
       "238614                    No          No              No  ...   \n",
       "238615                   NaN         NaN             NaN  ...   \n",
       "\n",
       "       CreditCard_Payment_External CreditCard_Payment_Cash  \\\n",
       "238611                         0.0                     0.0   \n",
       "238612                         0.0                     0.0   \n",
       "238613                         0.0                     0.0   \n",
       "238614                         0.0                     0.0   \n",
       "238615                         NaN                     NaN   \n",
       "\n",
       "       CreditCard_Payment_Web CreditCard_Payment_ATM CreditCard_Payment_TAS  \\\n",
       "238611                    0.0                    0.0                    0.0   \n",
       "238612                    0.0                    0.0                    0.0   \n",
       "238613                    0.0                    1.0                    0.0   \n",
       "238614                    0.0                    0.0                    0.0   \n",
       "238615                    NaN                    NaN                    NaN   \n",
       "\n",
       "       Investment_Numbers Mobile Email                         Region  \\\n",
       "238611                0.0    Yes   Yes                   BUENOS AIRES   \n",
       "238612                0.0    Yes    No                            NaN   \n",
       "238613                0.0     No   Yes  REGION NORTE GRANDE ARGENTINO   \n",
       "238614                0.0    Yes   Yes              CABA Centro/Norte   \n",
       "238615                NaN    NaN   NaN                            NaN   \n",
       "\n",
       "       CreditCard_Product  \n",
       "238611     J55660104XX012  \n",
       "238612                NaN  \n",
       "238613     J55660104XX012  \n",
       "238614                NaN  \n",
       "238615                NaN  \n",
       "\n",
       "[5 rows x 77 columns]"
      ]
     },
     "execution_count": 8,
     "metadata": {},
     "output_type": "execute_result"
    }
   ],
   "source": [
    "df = pd.read_csv('./data.csv', sep='|')\n",
    "df.tail()"
   ]
  },
  {
   "cell_type": "markdown",
   "id": "a7391cbe",
   "metadata": {},
   "source": [
    "### Number of columns"
   ]
  },
  {
   "cell_type": "code",
   "execution_count": 3,
   "id": "b8ad57c3",
   "metadata": {},
   "outputs": [
    {
     "data": {
      "text/plain": [
       "77"
      ]
     },
     "execution_count": 3,
     "metadata": {},
     "output_type": "execute_result"
    }
   ],
   "source": [
    "len(df.columns)"
   ]
  },
  {
   "cell_type": "markdown",
   "id": "00c39317",
   "metadata": {},
   "source": [
    "### Number of rows"
   ]
  },
  {
   "cell_type": "code",
   "execution_count": 4,
   "id": "24f1e36a",
   "metadata": {
    "scrolled": true
   },
   "outputs": [
    {
     "data": {
      "text/plain": [
       "238616"
      ]
     },
     "execution_count": 4,
     "metadata": {},
     "output_type": "execute_result"
    }
   ],
   "source": [
    "len(df)"
   ]
  },
  {
   "cell_type": "markdown",
   "id": "b6daf108",
   "metadata": {},
   "source": [
    "### Number of columns related to saving account"
   ]
  },
  {
   "cell_type": "code",
   "execution_count": 5,
   "id": "b87492e6",
   "metadata": {},
   "outputs": [
    {
     "data": {
      "text/plain": [
       "29"
      ]
     },
     "execution_count": 5,
     "metadata": {},
     "output_type": "execute_result"
    }
   ],
   "source": [
    "saving_account_columns = [col for col in df.columns if col.startswith('SavingAccount_')]\n",
    "len(saving_account_columns)"
   ]
  },
  {
   "cell_type": "markdown",
   "id": "09cf9909",
   "metadata": {},
   "source": [
    "### Number of months"
   ]
  },
  {
   "cell_type": "code",
   "execution_count": 6,
   "id": "ff2f4284",
   "metadata": {},
   "outputs": [
    {
     "data": {
      "text/plain": [
       "9"
      ]
     },
     "execution_count": 6,
     "metadata": {},
     "output_type": "execute_result"
    }
   ],
   "source": [
    "months = pd.unique(df[df['Month'].notnull()]['Month'])\n",
    "len(months)"
   ]
  },
  {
   "cell_type": "markdown",
   "id": "0a190b01",
   "metadata": {},
   "source": [
    "### Number of clients"
   ]
  },
  {
   "cell_type": "code",
   "execution_count": 7,
   "id": "1216ec84",
   "metadata": {},
   "outputs": [
    {
     "data": {
      "text/plain": [
       "27591"
      ]
     },
     "execution_count": 7,
     "metadata": {},
     "output_type": "execute_result"
    }
   ],
   "source": [
    "clients = pd.unique(df[df['client_id'].notnull()]['client_id'])\n",
    "len(clients)"
   ]
  }
 ],
 "metadata": {
  "kernelspec": {
   "display_name": "Python 3 (ipykernel)",
   "language": "python",
   "name": "python3"
  },
  "language_info": {
   "codemirror_mode": {
    "name": "ipython",
    "version": 3
   },
   "file_extension": ".py",
   "mimetype": "text/x-python",
   "name": "python",
   "nbconvert_exporter": "python",
   "pygments_lexer": "ipython3",
   "version": "3.8.13"
  }
 },
 "nbformat": 4,
 "nbformat_minor": 5
}
